{
 "cells": [
  {
   "attachments": {},
   "cell_type": "markdown",
   "metadata": {},
   "source": [
    "# Chicago crimes from 2001 to Present – Report \n",
    "##### Patricia Jaquez\n",
    "###### Date: June 20,2023"
   ]
  },
  {
   "attachments": {},
   "cell_type": "markdown",
   "metadata": {},
   "source": [
    "Hypothesis "
   ]
  },
  {
   "attachments": {},
   "cell_type": "markdown",
   "metadata": {},
   "source": [
    "My hypothesis from this data set is we will be able to tell if crime has gone down with time. Throughout the years we’ve seen how people have become more involved with their communities, outreach programs, the rise of camera recordings holding people accountable for, def have had an impact lowering crime rates. \n",
    "\n",
    "I started with cleaning my data in visual code, filling in all the null values that I know would not skew the data. When it came down to building my visualizations VS code kept freezing and anytime, I would attempt to reopen that notebook it would freeze and ask to reopen the kernel. I decided at that point to remove my visualizations from my notebook and build my pipeline to save at least the new cleaned csv file.  Once, I did, was able to upload my new csv file to Tableau and I was able build a map and I’m able to filter a crime, if it led to an arrest and seeing them per year. One crime that caught my eye was bomb threats , back in 2001 there was a high number of bomb threats but as the years progressed the number of bomb threats have significantly have gone down. Also, I built another table with the number of arrest also noticed a significant decrease of arrest to present. Meaning one of the two reason, either people are commiting less crimes or people are not being arrested for their crimes.\n",
    "\n",
    "I also built another table with the type of arrest that were made throughout the years. I realized that some type of crimes have gone down with time and othery types risen. Again i do believe that because of the new outreach programs and etc as i had mentioned before did affect crime going down even though the media says otherwise. \n",
    "\n",
    "\n"
   ]
  }
 ],
 "metadata": {
  "language_info": {
   "name": "python"
  },
  "orig_nbformat": 4
 },
 "nbformat": 4,
 "nbformat_minor": 2
}
